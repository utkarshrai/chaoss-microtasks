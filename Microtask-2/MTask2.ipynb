{
 "cells": [
  {
   "cell_type": "markdown",
   "metadata": {},
   "source": [
    "# Microtask 2\n",
    "Produce a chart showing the distribution of time-to-close (using the corresponding field in the GrimoireLab enriched index for GitHub issues) for issues already closed, and opened during the last six months."
   ]
  },
  {
   "cell_type": "markdown",
   "metadata": {},
   "source": [
    "## Repository Under Analysis: AutolabJS/autolabcli\n",
    "### About the Repository:\n",
    "A command line interface for AutolabJS, an software we use for code evaluation in my university. I am among the contributors."
   ]
  },
  {
   "cell_type": "code",
   "execution_count": 2,
   "metadata": {},
   "outputs": [],
   "source": [
    "from elasticsearch import Elasticsearch\n",
    "from elasticsearch_dsl import Search\n",
    "\n",
    "from subprocess import call\n",
    "\n",
    "import pandas as pd\n",
    "from datetime import datetime\n",
    "import matplotlib.pyplot as plt"
   ]
  },
  {
   "cell_type": "markdown",
   "metadata": {},
   "source": [
    "## Demonstrations\n",
    "1. p2o: Last task we did not use p2o, so it is time to use it. Will put up another version of this task using docker with an updated project.json\n",
    "2. Pandas\n",
    "3. Matplotlib"
   ]
  },
  {
   "cell_type": "markdown",
   "metadata": {},
   "source": [
    "## p2o and Connecting to ES\n",
    "In the previous microtask I used grimoirelab/full to create our ES database. This time, I shall use p2o to accomplish the same.\n",
    "\n",
    "We shall use subprocess to do so.\n",
    "\n",
    "Please note that the output has been cleared so that the github token is not displayed."
   ]
  },
  {
   "cell_type": "code",
   "execution_count": null,
   "metadata": {},
   "outputs": [],
   "source": [
    "subprocess.run(['p2o.py', '--enrich', '--index', 'github_raw', '--index-enrich', 'github',\n",
    "                '-e', 'http://localhost:9200', '--no_inc', '--debug', 'github', \n",
    "              'AutolabJS', 'autolabcli', '-t', 'wubbalubbadubdub', '--sleep-for-rate'])"
   ]
  },
  {
   "cell_type": "code",
   "execution_count": 3,
   "metadata": {
    "collapsed": true
   },
   "outputs": [],
   "source": [
    "es = Elasticsearch('http://localhost:9200', verify_certs=False)"
   ]
  },
  {
   "cell_type": "code",
   "execution_count": 5,
   "metadata": {},
   "outputs": [
    {
     "data": {
      "text/plain": [
       "True"
      ]
     },
     "execution_count": 5,
     "metadata": {},
     "output_type": "execute_result"
    }
   ],
   "source": [
    "es.ping()"
   ]
  },
  {
   "cell_type": "markdown",
   "metadata": {},
   "source": [
    "## Closed Issues\n",
    "We shall be using the GrimoireLab enriched index 'github'.\n",
    "\n",
    "It has been mentioned in the task statement to use the time_to_close_days field so we shall be using that.\n",
    "\n",
    "Open Issues will be dealt separately.\n",
    "\n"
   ]
  },
  {
   "cell_type": "code",
   "execution_count": 6,
   "metadata": {
    "collapsed": true
   },
   "outputs": [],
   "source": [
    "s = Search(using=es, index='github')\n",
    "s = s.source(['item_type', 'created_at', 'time_to_close_days', 'state'])\n",
    "s = s.filter('terms', item_type=['issue'])\n",
    "s = s.filter('range', created_at={'gte':'now-6M'})\n",
    "s = s.filter('terms', state=['closed'])\n",
    "s = s.sort({'created_at':{'order':'asc'}})"
   ]
  },
  {
   "cell_type": "code",
   "execution_count": 7,
   "metadata": {
    "collapsed": true
   },
   "outputs": [],
   "source": [
    "result = s.execute()"
   ]
  },
  {
   "cell_type": "markdown",
   "metadata": {},
   "source": [
    "## Parsing result and making our dataframe\n",
    "We shall now be parsing our result to create a pandas dataframe.\n",
    "Please note: Appending directly to pd dataframes is expensive and hence will be accomplished using a list"
   ]
  },
  {
   "cell_type": "code",
   "execution_count": 8,
   "metadata": {
    "collapsed": true
   },
   "outputs": [],
   "source": [
    "a_list=[]\n",
    "for item in result:\n",
    "    a_list.append(item.to_dict())\n",
    "closed = pd.DataFrame(result_list).round(0)"
   ]
  },
  {
   "cell_type": "markdown",
   "metadata": {},
   "source": [
    "## Aggregation by number of days"
   ]
  },
  {
   "cell_type": "code",
   "execution_count": 10,
   "metadata": {},
   "outputs": [
    {
     "data": {
      "image/png": "[encoded data removed]",
      "text/plain": [
       "<matplotlib.figure.Figure at 0x7f9438393160>"
      ]
     },
     "metadata": {},
     "output_type": "display_data"
    }
   ],
   "source": [
    "time_closed = closed.groupby([closed.time_to_close_days]).agg('count')\n",
    "time_closed_plot = time_closed.plot(kind='bar').set_xlabel(\"days\")\n",
    "plt.show()"
   ]
  },
  {
   "cell_type": "markdown",
   "metadata": {},
   "source": [
    "## Open Issues\n",
    "The state field will be changed to open.\n",
    "\n",
    "Additionally, time_to_close field holds NA value for open issues so we shall make use of time_open_days.\n",
    "\n",
    "Other than that, our queries shall be similar."
   ]
  },
  {
   "cell_type": "code",
   "execution_count": 11,
   "metadata": {},
   "outputs": [],
   "source": [
    "s = Search(using=es, index='github')\n",
    "s = s.source(['item_type', 'created_at', 'time_open_days', 'state'])\n",
    "s = s.filter('terms', item_type=['issue'])\n",
    "s = s.filter('range', created_at={'gte':'now-6M'})\n",
    "s = s.filter('terms', state=['open'])\n",
    "s = s.sort({'created_at':{'order':'asc'}})\n",
    "result = s.execute()"
   ]
  },
  {
   "cell_type": "code",
   "execution_count": 14,
   "metadata": {},
   "outputs": [],
   "source": [
    "a_list=[]\n",
    "for item in result:\n",
    "    a_list.append(item.to_dict())\n",
    "open_ = pd.DataFrame(result_list).round(0)"
   ]
  },
  {
   "cell_type": "code",
   "execution_count": 16,
   "metadata": {},
   "outputs": [
    {
     "data": {
      "image/png": "[encoded data removed]",
      "text/plain": [
       "<matplotlib.figure.Figure at 0x7f94382f1e48>"
      ]
     },
     "metadata": {},
     "output_type": "display_data"
    }
   ],
   "source": [
    "time_open = open_.groupby([open_.time_open_days]).agg('count')\n",
    "time_open_plot = time_open.plot(kind='bar').set_xlabel(\"days\")\n",
    "plt.show()"
   ]
  },
  {
   "cell_type": "markdown",
   "metadata": {},
   "source": [
    "This accomplishes our 2nd task"
   ]
  },
  {
   "cell_type": "code",
   "execution_count": null,
   "metadata": {
    "collapsed": true
   },
   "outputs": [],
   "source": []
  }
 ],
 "metadata": {
  "kernelspec": {
   "display_name": "Python 3",
   "language": "python",
   "name": "python3"
  },
  "language_info": {
   "codemirror_mode": {
    "name": "ipython",
    "version": 3
   },
   "file_extension": ".py",
   "mimetype": "text/x-python",
   "name": "python",
   "nbconvert_exporter": "python",
   "pygments_lexer": "ipython3",
   "version": "3.6.2"
  }
 },
 "nbformat": 4,
 "nbformat_minor": 2
}
