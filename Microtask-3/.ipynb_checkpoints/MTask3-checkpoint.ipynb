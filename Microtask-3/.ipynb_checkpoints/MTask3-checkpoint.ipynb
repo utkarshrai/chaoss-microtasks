{
 "cells": [
  {
   "cell_type": "markdown",
   "metadata": {},
   "source": [
    "# Microtask 3\n",
    "Produce a listing of repositories, as a table and as CSV file, with the number of commits authored, issues opened, and pull requests opened, during the last three months, ordered by the total number (commits plus issues plus pull requests)."
   ]
  },
  {
   "cell_type": "markdown",
   "metadata": {},
   "source": [
    "## Project Under Analysis: Chaoss\n"
   ]
  },
  {
   "cell_type": "code",
   "execution_count": 1,
   "metadata": {},
   "outputs": [
    {
     "name": "stderr",
     "output_type": "stream",
     "text": [
      "/home/utkarsh/anaconda3/lib/python3.6/site-packages/numexpr/cpuinfo.py:42: UserWarning: [Errno 2] No such file or directory: 'uname'\n",
      "  warnings.warn(str(e), UserWarning, stacklevel=stacklevel)\n"
     ]
    }
   ],
   "source": [
    "from perceval.backends.core.git import Git\n",
    "from perceval.backends.core.github import GitHub\n",
    "\n",
    "import pandas as pd\n",
    "\n",
    "import requests\n",
    "import json"
   ]
  },
  {
   "cell_type": "markdown",
   "metadata": {},
   "source": [
    "## Demonstrations\n",
    "1. Sir Perceval's quest\n",
    "2. Datetime tools\n",
    "3. Pandas\n",
    "4. Matplotlib\n",
    "5. Grimoirelab enriched_index github\n",
    "\n",
    "## Starter Code\n",
    "First we shall demonstrate perceval's working using code from the gitbook.\n",
    "Then we shall use this code which works on one repository to run on all repositories which we shall obtain using Git api"
   ]
  },
  {
   "cell_type": "code",
   "execution_count": 2,
   "metadata": {},
   "outputs": [
    {
     "name": "stdout",
     "output_type": "stream",
     "text": [
      "dc78c254e464ff334892e0448a23e4cfbfc637a3\n",
      "57bc204822832a6c23ac7883e5392f4da6f4ca37\n",
      "2355d18310d8e15c8e5d44f688d757df33b0e4be\n",
      "589bc515db1632959f6edcb0c4bc2fe43ee51b74\n",
      "35bfeb3c4037a31f4f6a885243f213a104772a04\n",
      "f6238e73f5bba86efd5e5fdd55a84b2b4f7348ec\n",
      "2ff7af1b6e5b202697518c307f4d4d68a5cb1b7b\n",
      "4e34582f9cfd8ec64841d5db5333c598a4082632\n",
      "b0f6eb81d9b1dc5f77dce9954744016dfbb3cb4a\n",
      "47f9657b7e0cdb63c7c71aaba2edf0ce772145fe\n",
      "740ca3d73893db8cf712b2dfff0df3af1600ae9b\n",
      "d1253dd9876bb76e938a861acaceaae95241b46d\n",
      "2534e534e24b71868b72c19107f787d5c8d690cf\n",
      "0ad102623646fe165fe54798b190e7dfab73fedd\n",
      "9b6bcf8bdbb3d261998a2231531d37cbd10d6c0b\n",
      "525f43db7764d5f3cbc846fa3bf48a0c74550e4e\n",
      "2f7428028f377104a301c7bc7ba92ae3acddfb5c\n",
      "6c06ae24ac5512de3260f0c3cea615ba466bdf01\n",
      "d87f2ed0d3d98832348602a8105bbccf5f812620\n",
      "8cc0df2f3ffe92104160749ffe98e537f25977a0\n"
     ]
    }
   ],
   "source": [
    "count=0\n",
    "# url for the git repo to analyze\n",
    "repo_url = 'http://github.com/grimoirelab/perceval.git'\n",
    "# directory for letting Perceval clone the git repo\n",
    "repo_dir = '/tmp/perceval.git'\n",
    "\n",
    "# create a Git object, pointing to repo_url, using repo_dir for cloning\n",
    "repo = Git(uri=repo_url, gitpath=repo_dir)\n",
    "# fetch all commits as an iteratoir, and iterate it printing each hash\n",
    "for commit in repo.fetch():\n",
    "    count+=1\n",
    "    print(commit['data']['commit'])\n",
    "    if count==20: break"
   ]
  },
  {
   "cell_type": "markdown",
   "metadata": {},
   "source": [
    "## Step 1: Counting the number of commits"
   ]
  },
  {
   "cell_type": "code",
   "execution_count": 3,
   "metadata": {},
   "outputs": [
    {
     "name": "stdout",
     "output_type": "stream",
     "text": [
      "Number of commmits: 1136.\n"
     ]
    }
   ],
   "source": [
    "repo = Git(uri=repo_url, gitpath=repo_dir)\n",
    "count = 0\n",
    "for commit in repo.fetch():\n",
    "    count += 1\n",
    "print(\"Number of commmits: %d.\" % count)"
   ]
  },
  {
   "cell_type": "markdown",
   "metadata": {},
   "source": [
    "## Step 2: Judging if its an issue or a pull request"
   ]
  },
  {
   "cell_type": "code",
   "execution_count": 4,
   "metadata": {},
   "outputs": [
    {
     "name": "stdout",
     "output_type": "stream",
     "text": [
      "3 : Pull request\n",
      "5 : Pull request\n",
      "4 : Pull request\n",
      "2 : Pull request\n",
      "6 : Pull request\n",
      "8 : Issue\n",
      "7 : Pull request\n",
      "9 : Issue\n",
      "15 : Pull request\n",
      "14 : Pull request\n",
      "11 : Pull request\n",
      "10 : Pull request\n",
      "17 : Issue\n",
      "12 : Pull request\n",
      "18 : Issue\n",
      "19 : Issue\n",
      "20 : Issue\n",
      "21 : Issue\n",
      "23 : Pull request\n",
      "25 : Pull request\n"
     ]
    }
   ],
   "source": [
    "# create a Git object, pointing to repo_url, using repo_dir for cloning\n",
    "count=0\n",
    "github_token = ''\n",
    "repo = GitHub(owner='grimoirelab', repository='perceval', api_token=github_token)\n",
    "# fetch all issues/pull requests as an iteratoir, and iterate it printing\n",
    "# their number, and whether they are issues or pull requessts\n",
    "for item in repo.fetch():\n",
    "    count+=1\n",
    "    if 'pull_request' in item['data']:\n",
    "        kind = 'Pull request'\n",
    "    else:\n",
    "        kind = 'Issue'\n",
    "    print(item['data']['number'], ':', kind)\n",
    "    if count==20: break"
   ]
  },
  {
   "cell_type": "markdown",
   "metadata": {},
   "source": [
    "## Step 3: Handling the Commit Date and Time\n",
    "We have a 3 month condition to satisfy."
   ]
  },
  {
   "cell_type": "code",
   "execution_count": 8,
   "metadata": {},
   "outputs": [
    {
     "name": "stdout",
     "output_type": "stream",
     "text": [
      "Date to use : Tue Aug 18 18:08:27 2015 +0200\n",
      "Datetime Object : 2015-08-18 18:08:27+02:00\n",
      "Differnce : 949\n"
     ]
    }
   ],
   "source": [
    "from dateutil import parser\n",
    "from datetime import datetime\n",
    "repo = Git(uri=repo_url, gitpath=repo_dir)\n",
    "# fetch all commits as an iteratoir, and iterate it printing each hash\n",
    "for commit in repo.fetch():\n",
    "    print(\"Date to use : \" +commit['data']['CommitDate'])\n",
    "    dt=parser.parse(commit['data']['CommitDate'])\n",
    "    print(\"Datetime Object : \"+str(dt))\n",
    "    tz_info = dt.tzinfo\n",
    "    diff=datetime.now(tz_info)-dt\n",
    "    print(\"Differnce : \"+str(diff.days))\n",
    "    break"
   ]
  },
  {
   "cell_type": "markdown",
   "metadata": {},
   "source": [
    "## Step 4: Obtaining our list of repositories\n",
    "We shall be using requests to obtain a json from the Git api which we shall parse."
   ]
  },
  {
   "cell_type": "code",
   "execution_count": 9,
   "metadata": {
    "collapsed": true
   },
   "outputs": [],
   "source": [
    "#Feel free to change the name to check for other organisations\n",
    "organisation=\"chaoss\"\n",
    "to_parse=requests.get('https://api.github.com/users/'+organisation+'/repos').json()"
   ]
  },
  {
   "cell_type": "markdown",
   "metadata": {},
   "source": [
    "## JSON to parse\n",
    "Let us print an entry to have a better idea of what all fields are available. The primary fields we shall be using have already been stated in the above steps."
   ]
  },
  {
   "cell_type": "code",
   "execution_count": 10,
   "metadata": {},
   "outputs": [
    {
     "name": "stdout",
     "output_type": "stream",
     "text": [
      "{'archive_url': 'https://api.github.com/repos/chaoss/grimoirelab/{archive_format}{/ref}',\n",
      " 'archived': False,\n",
      " 'assignees_url': 'https://api.github.com/repos/chaoss/grimoirelab/assignees{/user}',\n",
      " 'blobs_url': 'https://api.github.com/repos/chaoss/grimoirelab/git/blobs{/sha}',\n",
      " 'branches_url': 'https://api.github.com/repos/chaoss/grimoirelab/branches{/branch}',\n",
      " 'clone_url': 'https://github.com/chaoss/grimoirelab.git',\n",
      " 'collaborators_url': 'https://api.github.com/repos/chaoss/grimoirelab/collaborators{/collaborator}',\n",
      " 'comments_url': 'https://api.github.com/repos/chaoss/grimoirelab/comments{/number}',\n",
      " 'commits_url': 'https://api.github.com/repos/chaoss/grimoirelab/commits{/sha}',\n",
      " 'compare_url': 'https://api.github.com/repos/chaoss/grimoirelab/compare/{base}...{head}',\n",
      " 'contents_url': 'https://api.github.com/repos/chaoss/grimoirelab/contents/{+path}',\n",
      " 'contributors_url': 'https://api.github.com/repos/chaoss/grimoirelab/contributors',\n",
      " 'created_at': '2017-09-20T11:09:15Z',\n",
      " 'default_branch': 'master',\n",
      " 'deployments_url': 'https://api.github.com/repos/chaoss/grimoirelab/deployments',\n",
      " 'description': 'GrimoireLab: toolset for software development analytics',\n",
      " 'downloads_url': 'https://api.github.com/repos/chaoss/grimoirelab/downloads',\n",
      " 'events_url': 'https://api.github.com/repos/chaoss/grimoirelab/events',\n",
      " 'fork': False,\n",
      " 'forks': 10,\n",
      " 'forks_count': 10,\n",
      " 'forks_url': 'https://api.github.com/repos/chaoss/grimoirelab/forks',\n",
      " 'full_name': 'chaoss/grimoirelab',\n",
      " 'git_commits_url': 'https://api.github.com/repos/chaoss/grimoirelab/git/commits{/sha}',\n",
      " 'git_refs_url': 'https://api.github.com/repos/chaoss/grimoirelab/git/refs{/sha}',\n",
      " 'git_tags_url': 'https://api.github.com/repos/chaoss/grimoirelab/git/tags{/sha}',\n",
      " 'git_url': 'git://github.com/chaoss/grimoirelab.git',\n",
      " 'has_downloads': True,\n",
      " 'has_issues': True,\n",
      " 'has_pages': True,\n",
      " 'has_projects': True,\n",
      " 'has_wiki': True,\n",
      " 'homepage': 'http://chaoss.github.io/grimoirelab',\n",
      " 'hooks_url': 'https://api.github.com/repos/chaoss/grimoirelab/hooks',\n",
      " 'html_url': 'https://github.com/chaoss/grimoirelab',\n",
      " 'id': 104205088,\n",
      " 'issue_comment_url': 'https://api.github.com/repos/chaoss/grimoirelab/issues/comments{/number}',\n",
      " 'issue_events_url': 'https://api.github.com/repos/chaoss/grimoirelab/issues/events{/number}',\n",
      " 'issues_url': 'https://api.github.com/repos/chaoss/grimoirelab/issues{/number}',\n",
      " 'keys_url': 'https://api.github.com/repos/chaoss/grimoirelab/keys{/key_id}',\n",
      " 'labels_url': 'https://api.github.com/repos/chaoss/grimoirelab/labels{/name}',\n",
      " 'language': 'Python',\n",
      " 'languages_url': 'https://api.github.com/repos/chaoss/grimoirelab/languages',\n",
      " 'license': {'key': 'gpl-3.0',\n",
      "             'name': 'GNU General Public License v3.0',\n",
      "             'spdx_id': 'GPL-3.0',\n",
      "             'url': 'https://api.github.com/licenses/gpl-3.0'},\n",
      " 'merges_url': 'https://api.github.com/repos/chaoss/grimoirelab/merges',\n",
      " 'milestones_url': 'https://api.github.com/repos/chaoss/grimoirelab/milestones{/number}',\n",
      " 'mirror_url': None,\n",
      " 'name': 'grimoirelab',\n",
      " 'notifications_url': 'https://api.github.com/repos/chaoss/grimoirelab/notifications{?since,all,participating}',\n",
      " 'open_issues': 32,\n",
      " 'open_issues_count': 32,\n",
      " 'owner': {'avatar_url': 'https://avatars2.githubusercontent.com/u/29740296?v=4',\n",
      "           'events_url': 'https://api.github.com/users/chaoss/events{/privacy}',\n",
      "           'followers_url': 'https://api.github.com/users/chaoss/followers',\n",
      "           'following_url': 'https://api.github.com/users/chaoss/following{/other_user}',\n",
      "           'gists_url': 'https://api.github.com/users/chaoss/gists{/gist_id}',\n",
      "           'gravatar_id': '',\n",
      "           'html_url': 'https://github.com/chaoss',\n",
      "           'id': 29740296,\n",
      "           'login': 'chaoss',\n",
      "           'organizations_url': 'https://api.github.com/users/chaoss/orgs',\n",
      "           'received_events_url': 'https://api.github.com/users/chaoss/received_events',\n",
      "           'repos_url': 'https://api.github.com/users/chaoss/repos',\n",
      "           'site_admin': False,\n",
      "           'starred_url': 'https://api.github.com/users/chaoss/starred{/owner}{/repo}',\n",
      "           'subscriptions_url': 'https://api.github.com/users/chaoss/subscriptions',\n",
      "           'type': 'Organization',\n",
      "           'url': 'https://api.github.com/users/chaoss'},\n",
      " 'private': False,\n",
      " 'pulls_url': 'https://api.github.com/repos/chaoss/grimoirelab/pulls{/number}',\n",
      " 'pushed_at': '2018-03-23T00:02:00Z',\n",
      " 'releases_url': 'https://api.github.com/repos/chaoss/grimoirelab/releases{/id}',\n",
      " 'size': 266936,\n",
      " 'ssh_url': 'git@github.com:chaoss/grimoirelab.git',\n",
      " 'stargazers_count': 18,\n",
      " 'stargazers_url': 'https://api.github.com/repos/chaoss/grimoirelab/stargazers',\n",
      " 'statuses_url': 'https://api.github.com/repos/chaoss/grimoirelab/statuses/{sha}',\n",
      " 'subscribers_url': 'https://api.github.com/repos/chaoss/grimoirelab/subscribers',\n",
      " 'subscription_url': 'https://api.github.com/repos/chaoss/grimoirelab/subscription',\n",
      " 'svn_url': 'https://github.com/chaoss/grimoirelab',\n",
      " 'tags_url': 'https://api.github.com/repos/chaoss/grimoirelab/tags',\n",
      " 'teams_url': 'https://api.github.com/repos/chaoss/grimoirelab/teams',\n",
      " 'trees_url': 'https://api.github.com/repos/chaoss/grimoirelab/git/trees{/sha}',\n",
      " 'updated_at': '2018-03-23T00:02:02Z',\n",
      " 'url': 'https://api.github.com/repos/chaoss/grimoirelab',\n",
      " 'watchers': 18,\n",
      " 'watchers_count': 18}\n"
     ]
    }
   ],
   "source": [
    "import pprint as pp\n",
    "pp.pprint(to_parse[1])"
   ]
  },
  {
   "cell_type": "markdown",
   "metadata": {},
   "source": [
    "## Step 5: Putting it all together"
   ]
  },
  {
   "cell_type": "code",
   "execution_count": 30,
   "metadata": {
    "collapsed": true
   },
   "outputs": [],
   "source": [
    "a_list=[]\n",
    "b_list=[]\n",
    "c_list=[]\n",
    "d_list=[]\n",
    "e_list=[]\n",
    "#Lists because appending in pandas directly is expensive\n",
    "for item in to_parse:\n",
    "    a_list.append(item['name'])\n",
    "    commits=0\n",
    "    repo_git = Git(uri=item['html_url'], gitpath='/tmp/'+item['name'])\n",
    "    for commit in repo_git.fetch():\n",
    "        dt=parser.parse(commit['data']['CommitDate'])\n",
    "        tz_info = dt.tzinfo\n",
    "        diff=datetime.now(tz_info)-dt\n",
    "        if diff.days <=90:\n",
    "            commits+=1\n",
    "    b_list.append(commits)\n",
    "    issues=0\n",
    "    pull_requests=0\n",
    "    repo_github = GitHub(owner=organisation, repository=item['name'], api_token=github_token)\n",
    "    for item2 in repo_github.fetch():\n",
    "        dt=parser.parse(item2['data']['created_at'])\n",
    "        tz_info = dt.tzinfo\n",
    "        diff=datetime.now(tz_info)-dt\n",
    "        if diff.days <=90:\n",
    "            if 'pull_request' in item2['data']:\n",
    "                pull_requests+=1\n",
    "            else :\n",
    "                issues+=1\n",
    "    c_list.append(issues)\n",
    "    d_list.append(pull_requests)\n",
    "    total=commits+issues+pull_requests\n",
    "    e_list.append(total)\n",
    "df = pd.DataFrame({'Repository': a_list, 'Commits': b_list,'Issues': c_list, 'Pull Requests': d_list,'Total': e_list})"
   ]
  },
  {
   "cell_type": "code",
   "execution_count": 34,
   "metadata": {},
   "outputs": [
    {
     "name": "stderr",
     "output_type": "stream",
     "text": [
      "/home/utkarsh/anaconda3/lib/python3.6/site-packages/ipykernel_launcher.py:1: FutureWarning: sort(columns=....) is deprecated, use sort_values(by=.....)\n",
      "  \"\"\"Entry point for launching an IPython kernel.\n"
     ]
    },
    {
     "data": {
      "text/html": [
       "<div>\n",
       "<table border=\"1\" class=\"dataframe\">\n",
       "  <thead>\n",
       "    <tr style=\"text-align: right;\">\n",
       "      <th></th>\n",
       "      <th>Commits</th>\n",
       "      <th>Issues</th>\n",
       "      <th>Pull Requests</th>\n",
       "      <th>Repository</th>\n",
       "      <th>Total</th>\n",
       "    </tr>\n",
       "  </thead>\n",
       "  <tbody>\n",
       "    <tr>\n",
       "      <th>0</th>\n",
       "      <td>0</td>\n",
       "      <td>3</td>\n",
       "      <td>0</td>\n",
       "      <td>prospector</td>\n",
       "      <td>3</td>\n",
       "    </tr>\n",
       "    <tr>\n",
       "      <th>1</th>\n",
       "      <td>6</td>\n",
       "      <td>2</td>\n",
       "      <td>4</td>\n",
       "      <td>whitepaper</td>\n",
       "      <td>12</td>\n",
       "    </tr>\n",
       "    <tr>\n",
       "      <th>2</th>\n",
       "      <td>16</td>\n",
       "      <td>1</td>\n",
       "      <td>5</td>\n",
       "      <td>grimoirelab-toolkit</td>\n",
       "      <td>22</td>\n",
       "    </tr>\n",
       "    <tr>\n",
       "      <th>3</th>\n",
       "      <td>15</td>\n",
       "      <td>2</td>\n",
       "      <td>6</td>\n",
       "      <td>grimoirelab-kidash</td>\n",
       "      <td>23</td>\n",
       "    </tr>\n",
       "    <tr>\n",
       "      <th>4</th>\n",
       "      <td>18</td>\n",
       "      <td>1</td>\n",
       "      <td>7</td>\n",
       "      <td>grimoirelab-cereslib</td>\n",
       "      <td>26</td>\n",
       "    </tr>\n",
       "    <tr>\n",
       "      <th>5</th>\n",
       "      <td>16</td>\n",
       "      <td>3</td>\n",
       "      <td>8</td>\n",
       "      <td>wg-diversity-inclusion</td>\n",
       "      <td>27</td>\n",
       "    </tr>\n",
       "    <tr>\n",
       "      <th>6</th>\n",
       "      <td>10</td>\n",
       "      <td>10</td>\n",
       "      <td>12</td>\n",
       "      <td>grimoirelab-manuscripts</td>\n",
       "      <td>32</td>\n",
       "    </tr>\n",
       "    <tr>\n",
       "      <th>7</th>\n",
       "      <td>23</td>\n",
       "      <td>2</td>\n",
       "      <td>8</td>\n",
       "      <td>grimoirelab-perceval-puppet</td>\n",
       "      <td>33</td>\n",
       "    </tr>\n",
       "    <tr>\n",
       "      <th>8</th>\n",
       "      <td>24</td>\n",
       "      <td>1</td>\n",
       "      <td>8</td>\n",
       "      <td>grimoirelab-perceval-opnfv</td>\n",
       "      <td>33</td>\n",
       "    </tr>\n",
       "    <tr>\n",
       "      <th>9</th>\n",
       "      <td>20</td>\n",
       "      <td>6</td>\n",
       "      <td>10</td>\n",
       "      <td>grimoirelab-sigils</td>\n",
       "      <td>36</td>\n",
       "    </tr>\n",
       "    <tr>\n",
       "      <th>10</th>\n",
       "      <td>20</td>\n",
       "      <td>3</td>\n",
       "      <td>16</td>\n",
       "      <td>governance</td>\n",
       "      <td>39</td>\n",
       "    </tr>\n",
       "    <tr>\n",
       "      <th>11</th>\n",
       "      <td>28</td>\n",
       "      <td>3</td>\n",
       "      <td>14</td>\n",
       "      <td>grimoirelab-kingarthur</td>\n",
       "      <td>45</td>\n",
       "    </tr>\n",
       "    <tr>\n",
       "      <th>12</th>\n",
       "      <td>32</td>\n",
       "      <td>8</td>\n",
       "      <td>7</td>\n",
       "      <td>grimoirelab-tutorial</td>\n",
       "      <td>47</td>\n",
       "    </tr>\n",
       "    <tr>\n",
       "      <th>13</th>\n",
       "      <td>21</td>\n",
       "      <td>10</td>\n",
       "      <td>18</td>\n",
       "      <td>metrics</td>\n",
       "      <td>49</td>\n",
       "    </tr>\n",
       "    <tr>\n",
       "      <th>14</th>\n",
       "      <td>58</td>\n",
       "      <td>3</td>\n",
       "      <td>18</td>\n",
       "      <td>grimoirelab-perceval-mozilla</td>\n",
       "      <td>79</td>\n",
       "    </tr>\n",
       "    <tr>\n",
       "      <th>15</th>\n",
       "      <td>57</td>\n",
       "      <td>15</td>\n",
       "      <td>8</td>\n",
       "      <td>website</td>\n",
       "      <td>80</td>\n",
       "    </tr>\n",
       "    <tr>\n",
       "      <th>16</th>\n",
       "      <td>55</td>\n",
       "      <td>10</td>\n",
       "      <td>18</td>\n",
       "      <td>grimoirelab-sortinghat</td>\n",
       "      <td>83</td>\n",
       "    </tr>\n",
       "    <tr>\n",
       "      <th>17</th>\n",
       "      <td>61</td>\n",
       "      <td>3</td>\n",
       "      <td>22</td>\n",
       "      <td>grimoirelab-hatstall</td>\n",
       "      <td>86</td>\n",
       "    </tr>\n",
       "    <tr>\n",
       "      <th>18</th>\n",
       "      <td>66</td>\n",
       "      <td>0</td>\n",
       "      <td>22</td>\n",
       "      <td>grimoirelab-kibiter</td>\n",
       "      <td>88</td>\n",
       "    </tr>\n",
       "    <tr>\n",
       "      <th>19</th>\n",
       "      <td>80</td>\n",
       "      <td>23</td>\n",
       "      <td>25</td>\n",
       "      <td>grimoirelab</td>\n",
       "      <td>128</td>\n",
       "    </tr>\n",
       "    <tr>\n",
       "      <th>20</th>\n",
       "      <td>134</td>\n",
       "      <td>3</td>\n",
       "      <td>25</td>\n",
       "      <td>grimoirelab-bestiary</td>\n",
       "      <td>162</td>\n",
       "    </tr>\n",
       "    <tr>\n",
       "      <th>21</th>\n",
       "      <td>105</td>\n",
       "      <td>8</td>\n",
       "      <td>55</td>\n",
       "      <td>grimoirelab-mordred</td>\n",
       "      <td>168</td>\n",
       "    </tr>\n",
       "    <tr>\n",
       "      <th>22</th>\n",
       "      <td>227</td>\n",
       "      <td>18</td>\n",
       "      <td>92</td>\n",
       "      <td>grimoirelab-elk</td>\n",
       "      <td>337</td>\n",
       "    </tr>\n",
       "    <tr>\n",
       "      <th>23</th>\n",
       "      <td>277</td>\n",
       "      <td>22</td>\n",
       "      <td>82</td>\n",
       "      <td>grimoirelab-perceval</td>\n",
       "      <td>381</td>\n",
       "    </tr>\n",
       "  </tbody>\n",
       "</table>\n",
       "</div>"
      ],
      "text/plain": [
       "    Commits  Issues  Pull Requests                    Repository  Total\n",
       "0         0       3              0                    prospector      3\n",
       "1         6       2              4                    whitepaper     12\n",
       "2        16       1              5           grimoirelab-toolkit     22\n",
       "3        15       2              6            grimoirelab-kidash     23\n",
       "4        18       1              7          grimoirelab-cereslib     26\n",
       "5        16       3              8        wg-diversity-inclusion     27\n",
       "6        10      10             12       grimoirelab-manuscripts     32\n",
       "7        23       2              8   grimoirelab-perceval-puppet     33\n",
       "8        24       1              8    grimoirelab-perceval-opnfv     33\n",
       "9        20       6             10            grimoirelab-sigils     36\n",
       "10       20       3             16                    governance     39\n",
       "11       28       3             14        grimoirelab-kingarthur     45\n",
       "12       32       8              7          grimoirelab-tutorial     47\n",
       "13       21      10             18                       metrics     49\n",
       "14       58       3             18  grimoirelab-perceval-mozilla     79\n",
       "15       57      15              8                       website     80\n",
       "16       55      10             18        grimoirelab-sortinghat     83\n",
       "17       61       3             22          grimoirelab-hatstall     86\n",
       "18       66       0             22           grimoirelab-kibiter     88\n",
       "19       80      23             25                   grimoirelab    128\n",
       "20      134       3             25          grimoirelab-bestiary    162\n",
       "21      105       8             55           grimoirelab-mordred    168\n",
       "22      227      18             92               grimoirelab-elk    337\n",
       "23      277      22             82          grimoirelab-perceval    381"
      ]
     },
     "execution_count": 34,
     "metadata": {},
     "output_type": "execute_result"
    }
   ],
   "source": [
    "df=df.sort(['Total'], ascending=True).reset_index(drop=True)\n",
    "df"
   ]
  },
  {
   "cell_type": "code",
   "execution_count": 35,
   "metadata": {
    "collapsed": true
   },
   "outputs": [],
   "source": [
    "df.to_csv('MTask3.csv',index=True)"
   ]
  },
  {
   "cell_type": "code",
   "execution_count": null,
   "metadata": {
    "collapsed": true
   },
   "outputs": [],
   "source": []
  }
 ],
 "metadata": {
  "kernelspec": {
   "display_name": "Python 3",
   "language": "python",
   "name": "python3"
  },
  "language_info": {
   "codemirror_mode": {
    "name": "ipython",
    "version": 3
   },
   "file_extension": ".py",
   "mimetype": "text/x-python",
   "name": "python",
   "nbconvert_exporter": "python",
   "pygments_lexer": "ipython3",
   "version": "3.6.2"
  }
 },
 "nbformat": 4,
 "nbformat_minor": 2
}
